{
 "cells": [
  {
   "cell_type": "code",
   "execution_count": 13,
   "id": "960531c8",
   "metadata": {},
   "outputs": [],
   "source": [
    "import pandas as pd\n",
    "\n",
    "# Read the dataset file for text Summarizer\n",
    "df1=pd.read_csv(\"generated-data.csv\",  encoding='cp1252')\n",
    "df1.drop('Id', inplace=True, axis=1)\n",
    "df2=pd.read_csv(\"text-generator.csv\",  encoding='cp1252')\n",
    "df3=pd.read_csv(\"data.csv\",  encoding='cp1252')\n",
    "df3.drop('Id', inplace=True, axis=1)"
   ]
  },
  {
   "cell_type": "code",
   "execution_count": 15,
   "id": "7e3de844",
   "metadata": {},
   "outputs": [
    {
     "name": "stdout",
     "output_type": "stream",
     "text": [
      "Dataset shape =  (2111, 2)\n"
     ]
    }
   ],
   "source": [
    "frames = [df1, df2, df3]\n",
    "df = pd.concat(frames)\n",
    "\n",
    "df.head()\n",
    "print(\"Dataset shape = \", df.shape)"
   ]
  },
  {
   "cell_type": "code",
   "execution_count": 16,
   "id": "90141594",
   "metadata": {},
   "outputs": [
    {
     "name": "stdout",
     "output_type": "stream",
     "text": [
      "Dataset shape =  (2111, 2)\n"
     ]
    },
    {
     "data": {
      "text/html": [
       "<div>\n",
       "<style scoped>\n",
       "    .dataframe tbody tr th:only-of-type {\n",
       "        vertical-align: middle;\n",
       "    }\n",
       "\n",
       "    .dataframe tbody tr th {\n",
       "        vertical-align: top;\n",
       "    }\n",
       "\n",
       "    .dataframe thead th {\n",
       "        text-align: right;\n",
       "    }\n",
       "</style>\n",
       "<table border=\"1\" class=\"dataframe\">\n",
       "  <thead>\n",
       "    <tr style=\"text-align: right;\">\n",
       "      <th></th>\n",
       "      <th>Text</th>\n",
       "      <th>Summary</th>\n",
       "    </tr>\n",
       "  </thead>\n",
       "  <tbody>\n",
       "    <tr>\n",
       "      <th>0</th>\n",
       "      <td>when you are signed into chrome with your goog...</td>\n",
       "      <td>cookies</td>\n",
       "    </tr>\n",
       "    <tr>\n",
       "      <th>1</th>\n",
       "      <td>we may collect the following information your ...</td>\n",
       "      <td>comments</td>\n",
       "    </tr>\n",
       "    <tr>\n",
       "      <th>2</th>\n",
       "      <td>advertisers app developers and publishers can ...</td>\n",
       "      <td>information from partners like advertisers</td>\n",
       "    </tr>\n",
       "    <tr>\n",
       "      <th>3</th>\n",
       "      <td>when you subscribe to receive premium content ...</td>\n",
       "      <td>personal data</td>\n",
       "    </tr>\n",
       "    <tr>\n",
       "      <th>4</th>\n",
       "      <td>personally identifiable information consists o...</td>\n",
       "      <td>maker app data</td>\n",
       "    </tr>\n",
       "  </tbody>\n",
       "</table>\n",
       "</div>"
      ],
      "text/plain": [
       "                                                Text  \\\n",
       "0  when you are signed into chrome with your goog...   \n",
       "1  we may collect the following information your ...   \n",
       "2  advertisers app developers and publishers can ...   \n",
       "3  when you subscribe to receive premium content ...   \n",
       "4  personally identifiable information consists o...   \n",
       "\n",
       "                                      Summary  \n",
       "0                                     cookies  \n",
       "1                                    comments  \n",
       "2  information from partners like advertisers  \n",
       "3                               personal data  \n",
       "4                             maker app data   "
      ]
     },
     "execution_count": 16,
     "metadata": {},
     "output_type": "execute_result"
    }
   ],
   "source": [
    "# shuffling rows\n",
    "df = df.sample(frac=1).reset_index(drop=True)\n",
    "print(\"Dataset shape = \", df.shape)\n",
    "df.head()"
   ]
  }
 ],
 "metadata": {
  "kernelspec": {
   "display_name": "venv",
   "language": "python",
   "name": "venv"
  },
  "language_info": {
   "codemirror_mode": {
    "name": "ipython",
    "version": 3
   },
   "file_extension": ".py",
   "mimetype": "text/x-python",
   "name": "python",
   "nbconvert_exporter": "python",
   "pygments_lexer": "ipython3",
   "version": "3.9.5"
  }
 },
 "nbformat": 4,
 "nbformat_minor": 5
}
