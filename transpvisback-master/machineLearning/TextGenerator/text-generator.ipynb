{
 "cells": [
  {
   "cell_type": "code",
   "execution_count": 1,
   "id": "171d3499",
   "metadata": {
    "scrolled": true
   },
   "outputs": [],
   "source": [
    "import numpy as np\n",
    "import pandas as pd\n",
    "import pickle\n",
    "from statistics import mode\n",
    "import nltk\n",
    "from nltk import word_tokenize\n",
    "from nltk.stem import LancasterStemmer\n",
    "from sklearn import preprocessing\n",
    "from nltk.corpus import stopwords\n",
    "from tensorflow.keras.models import Model\n",
    "from tensorflow.keras import models\n",
    "from tensorflow.keras import backend as K\n",
    "from tensorflow.keras.preprocessing.sequence import pad_sequences\n",
    "from tensorflow.keras.preprocessing.text import Tokenizer \n",
    "from tensorflow.keras.utils import plot_model\n",
    "from tensorflow.keras.layers import Input,LSTM,Embedding,Dense,Concatenate,Attention\n",
    "from sklearn.model_selection import train_test_split\n",
    "from bs4 import BeautifulSoup\n",
    "from sklearn.feature_extraction.text import CountVectorizer"
   ]
  },
  {
   "cell_type": "code",
   "execution_count": 2,
   "id": "fe1dab44",
   "metadata": {},
   "outputs": [],
   "source": [
    "# Read the dataset file for text Summarizer\n",
    "df=pd.read_csv(\"text-generator.csv\",  encoding='cp1252')\n",
    "# Drop the duplicate and na values from the records\n",
    "df.drop_duplicates(subset=['Text'],inplace=True)\n",
    "df.dropna(axis=0,inplace=True)\n",
    "input_data = df.loc[:,'Text']\n",
    "target_data = df.loc[:,'Summary']\n",
    "# df.head()\n",
    "# df"
   ]
  },
  {
   "cell_type": "code",
   "execution_count": 3,
   "id": "9a1ace17",
   "metadata": {},
   "outputs": [
    {
     "name": "stdout",
     "output_type": "stream",
     "text": [
      "(996, 2)\n"
     ]
    }
   ],
   "source": [
    "print(df.shape)"
   ]
  },
  {
   "cell_type": "code",
   "execution_count": 3,
   "id": "a5fbd2d0",
   "metadata": {},
   "outputs": [
    {
     "name": "stdout",
     "output_type": "stream",
     "text": [
      "Null columns (Summary) =  0\n",
      "Null columns (Text) =  0\n"
     ]
    }
   ],
   "source": [
    "print(\"Null columns (Summary) = \", df['Summary'].isnull().sum())\n",
    "print(\"Null columns (Text) = \", df['Text'].isnull().sum())"
   ]
  },
  {
   "cell_type": "code",
   "execution_count": 4,
   "id": "3b8f635b",
   "metadata": {},
   "outputs": [
    {
     "name": "stdout",
     "output_type": "stream",
     "text": [
      "(996, 2)\n"
     ]
    },
    {
     "data": {
      "text/html": [
       "<div>\n",
       "<style scoped>\n",
       "    .dataframe tbody tr th:only-of-type {\n",
       "        vertical-align: middle;\n",
       "    }\n",
       "\n",
       "    .dataframe tbody tr th {\n",
       "        vertical-align: top;\n",
       "    }\n",
       "\n",
       "    .dataframe thead th {\n",
       "        text-align: right;\n",
       "    }\n",
       "</style>\n",
       "<table border=\"1\" class=\"dataframe\">\n",
       "  <thead>\n",
       "    <tr style=\"text-align: right;\">\n",
       "      <th></th>\n",
       "      <th>Text</th>\n",
       "      <th>Summary</th>\n",
       "    </tr>\n",
       "  </thead>\n",
       "  <tbody>\n",
       "    <tr>\n",
       "      <th>0</th>\n",
       "      <td>to help keep our databases current and to prov...</td>\n",
       "      <td>purpose of information provided by thirdparties</td>\n",
       "    </tr>\n",
       "    <tr>\n",
       "      <th>1</th>\n",
       "      <td>we use the information we have to send you mar...</td>\n",
       "      <td>communications</td>\n",
       "    </tr>\n",
       "    <tr>\n",
       "      <th>2</th>\n",
       "      <td>we use the information we collect to provide o...</td>\n",
       "      <td>providing products</td>\n",
       "    </tr>\n",
       "    <tr>\n",
       "      <th>3</th>\n",
       "      <td>provide additional information such as company...</td>\n",
       "      <td>annual revenues number</td>\n",
       "    </tr>\n",
       "    <tr>\n",
       "      <th>4</th>\n",
       "      <td>payment processing we use thirdparty payment s...</td>\n",
       "      <td>process of handling payments</td>\n",
       "    </tr>\n",
       "  </tbody>\n",
       "</table>\n",
       "</div>"
      ],
      "text/plain": [
       "                                                Text  \\\n",
       "0  to help keep our databases current and to prov...   \n",
       "1  we use the information we have to send you mar...   \n",
       "2  we use the information we collect to provide o...   \n",
       "3  provide additional information such as company...   \n",
       "4  payment processing we use thirdparty payment s...   \n",
       "\n",
       "                                           Summary  \n",
       "0  purpose of information provided by thirdparties  \n",
       "1                                  communications   \n",
       "2                               providing products  \n",
       "3                           annual revenues number  \n",
       "4                    process of handling payments   "
      ]
     },
     "execution_count": 4,
     "metadata": {},
     "output_type": "execute_result"
    }
   ],
   "source": [
    "# shuffling rows\n",
    "df = df.sample(frac=1).reset_index(drop=True)\n",
    "print(df.shape)\n",
    "df.head()"
   ]
  },
  {
   "cell_type": "code",
   "execution_count": 5,
   "id": "737807a9",
   "metadata": {},
   "outputs": [],
   "source": [
    "input_texts=[]\n",
    "target_texts=[]\n",
    "input_words=[]\n",
    "target_words=[]\n",
    "contractions=pickle.load(open(\"contractions.pkl\",\"rb\"))['contractions']\n",
    "stop_words=set(stopwords.words('english'))"
   ]
  },
  {
   "cell_type": "code",
   "execution_count": 6,
   "id": "20b88866",
   "metadata": {},
   "outputs": [],
   "source": [
    "def clean(texts):\n",
    "    # Tokenize the text into words \n",
    "    words=word_tokenize(texts.lower())\n",
    "    # Contraction file to expand shortened words\n",
    "#     words= [contractions[w] if w in contractions else w for w in words ]\n",
    "#     words= [w for w in words if w not in stop_words]\n",
    "#     print (words)\n",
    "    return words"
   ]
  },
  {
   "cell_type": "code",
   "execution_count": 7,
   "id": "15f77dd7",
   "metadata": {},
   "outputs": [],
   "source": [
    "# Pass the input records and taret records\n",
    "for in_txt,tr_txt in zip(input_data,target_data):\n",
    "    in_words= in_txt\n",
    "    input_texts+= [' '.join(in_words)]\n",
    "    input_words+= in_words\n",
    "    # Add 'start' at start and 'end' at end of text\n",
    "    tr_words= clean(\"start \"+tr_txt+\" end\")\n",
    "    target_texts+= [' '.join(tr_words)]\n",
    "    target_words+= tr_words"
   ]
  },
  {
   "cell_type": "code",
   "execution_count": 8,
   "id": "a7488ac3",
   "metadata": {},
   "outputs": [
    {
     "name": "stdout",
     "output_type": "stream",
     "text": [
      "number of input words :  39\n",
      "number of target words :  799\n",
      "maximum input length :  347\n",
      "maximum target length :  30\n"
     ]
    }
   ],
   "source": [
    "# Store only unique words from input and target list of words\n",
    "input_words = sorted(list(set(input_words)))\n",
    "target_words = sorted(list(set(target_words)))\n",
    "num_in_words = len(input_words) #total number of input words\n",
    "num_tr_words = len(target_words) #total number of target words\n",
    " \n",
    "# Get the length of the input and target texts which appears most often  \n",
    "max_in_len = mode([len(i) for i in input_texts])\n",
    "max_tr_len = mode([len(i) for i in target_texts])\n",
    " \n",
    "print(\"number of input words : \",num_in_words)\n",
    "print(\"number of target words : \",num_tr_words)\n",
    "print(\"maximum input length : \",max_in_len)\n",
    "print(\"maximum target length : \",max_tr_len)\n",
    "# print(\"maximum target length : \",100)"
   ]
  },
  {
   "cell_type": "code",
   "execution_count": 9,
   "id": "0ffba3a4",
   "metadata": {
    "scrolled": true
   },
   "outputs": [
    {
     "data": {
      "image/png": "[encoded data removed]",
      "text/plain": [
       "<Figure size 432x288 with 2 Axes>"
      ]
     },
     "metadata": {
      "needs_background": "light"
     },
     "output_type": "display_data"
    }
   ],
   "source": [
    "import matplotlib.pyplot as plt\n",
    "text_word_count = []\n",
    "summary_word_count = []\n",
    "\n",
    "# populate the lists with sentence lengths\n",
    "for i in input_texts:\n",
    "      text_word_count.append(len(i.split()))\n",
    "\n",
    "for i in target_texts:\n",
    "      summary_word_count.append(len(i.split()))\n",
    "\n",
    "# print(\"text_word_count\",text_word_count)\n",
    "# print(\"summary_word_count\",summary_word_count)\n",
    "length_df = pd.DataFrame({'text':text_word_count, 'summary':summary_word_count})\n",
    "length_df.hist(bins = 30)\n",
    "plt.show()"
   ]
  },
  {
   "cell_type": "code",
   "execution_count": 10,
   "id": "25c4d627",
   "metadata": {},
   "outputs": [],
   "source": [
    "from nltk.stem import WordNetLemmatizer  # lammatizer from WordNet\n",
    "from bs4 import BeautifulSoup \n",
    "import re\n",
    "\n",
    "def clean_word2vec(text):  \n",
    "    \n",
    "    # 1. Removing html tags\n",
    "    paragraph_text = BeautifulSoup(text,\"lxml\").get_text()\n",
    "    \n",
    "    # 2. Retaining only alphabets.\n",
    "    paragraph_text = re.sub(\"[^a-zA-Z]\",\" \",paragraph_text)\n",
    "    \n",
    "    # 3. Converting to lower case and splitting\n",
    "    word_tokens= paragraph_text.lower().split()\n",
    "    \n",
    "    # 4. Remove stopwords\n",
    "    le=WordNetLemmatizer()\n",
    "    stop_words= set(stopwords.words(\"english\"))     \n",
    "    word_tokens= [le.lemmatize(w) for w in word_tokens if not w in stop_words]\n",
    "    \n",
    "    cleaned_paragraph=\" \".join(word_tokens)\n",
    "    return cleaned_paragraph"
   ]
  },
  {
   "cell_type": "code",
   "execution_count": 11,
   "id": "33c76d9f",
   "metadata": {},
   "outputs": [
    {
     "name": "stderr",
     "output_type": "stream",
     "text": [
      "d:\\esi\\projetfinetude\\servertranspvisback\\lib\\site-packages\\bs4\\__init__.py:435: MarkupResemblesLocatorWarning: The input looks more like a filename than markup. You may want to open this file and pass the filehandle into Beautiful Soup.\n",
      "  warnings.warn(\n"
     ]
    }
   ],
   "source": [
    "path_to_word2vec_file = 'license.txt'\n",
    "\n",
    "embeddings_index = {}\n",
    "data = []\n",
    "with open(path_to_word2vec_file, encoding='utf8') as f:\n",
    "    for line in f:\n",
    "        if line not in {\"\\n\"}:\n",
    "            data.append(clean_word2vec(line))\n",
    "            \n",
    "sentences_text = [[word for word in sentence.split()] for sentence in data]"
   ]
  },
  {
   "cell_type": "code",
   "execution_count": 12,
   "id": "81e84ed8",
   "metadata": {},
   "outputs": [],
   "source": [
    "import gensim \n",
    "from gensim.models import Word2Vec\n",
    "\n",
    "# Parameters: -\n",
    "    # sentences : The sentences we have obtained.\n",
    "    # size : The dimesnions of the vector used to represent each word.\n",
    "    # window : The number f words around any word to see the context.\n",
    "    # min_count : The minimum number of times a word should appear for its embedding to be formed or learnt.\n",
    "\n",
    "w2v_model_text=gensim.models.Word2Vec(sentences=sentences_text,\n",
    "#                                  size=300,\n",
    "                                 window=10,\n",
    "                                 min_count=1)"
   ]
  },
  {
   "cell_type": "code",
   "execution_count": 13,
   "id": "e22d2e7c",
   "metadata": {},
   "outputs": [
    {
     "data": {
      "text/plain": [
       "(629826, 790080)"
      ]
     },
     "execution_count": 13,
     "metadata": {},
     "output_type": "execute_result"
    }
   ],
   "source": [
    "w2v_model_text.train(sentences_text,\n",
    "                epochs=20,\n",
    "                total_examples=len(sentences_text))"
   ]
  },
  {
   "cell_type": "code",
   "execution_count": 14,
   "id": "70ca2894",
   "metadata": {},
   "outputs": [
    {
     "name": "stdout",
     "output_type": "stream",
     "text": [
      "The total number of words are :  2962\n"
     ]
    }
   ],
   "source": [
    "# total numberof extracted words.\n",
    "vocab = w2v_model_text.wv.index_to_key\n",
    "print(\"The total number of words are : \",len(vocab))"
   ]
  },
  {
   "cell_type": "code",
   "execution_count": 15,
   "id": "1434b172",
   "metadata": {},
   "outputs": [
    {
     "data": {
      "text/plain": [
       "[('store', 0.7297434210777283),\n",
       " ('category', 0.7066802978515625),\n",
       " ('piece', 0.7008130550384521),\n",
       " ('nonpersonal', 0.6959969401359558),\n",
       " ('personal', 0.6907910108566284),\n",
       " ('alone', 0.6878461241722107),\n",
       " ('collect', 0.6869583129882812),\n",
       " ('generic', 0.6854355335235596),\n",
       " ('pseudonymous', 0.6851505637168884),\n",
       " ('source', 0.681689977645874)]"
      ]
     },
     "execution_count": 15,
     "metadata": {},
     "output_type": "execute_result"
    }
   ],
   "source": [
    "# words most similar to a given word.\n",
    "w2v_model_text.wv.most_similar('information')"
   ]
  },
  {
   "cell_type": "code",
   "execution_count": 16,
   "id": "fa8a6923",
   "metadata": {},
   "outputs": [
    {
     "data": {
      "text/plain": [
       "0.66282296"
      ]
     },
     "execution_count": 16,
     "metadata": {},
     "output_type": "execute_result"
    }
   ],
   "source": [
    "# similaraity b/w two words\n",
    "w2v_model_text.wv.similarity('data','information')"
   ]
  },
  {
   "cell_type": "code",
   "execution_count": 17,
   "id": "368818e5",
   "metadata": {},
   "outputs": [
    {
     "name": "stdout",
     "output_type": "stream",
     "text": [
      "The no of key-value pairs :  2962\n"
     ]
    }
   ],
   "source": [
    "vocab_text=list(w2v_model_text.wv.index_to_key)\n",
    "\n",
    "word_vec_dict_text={}\n",
    "for word in vocab_text:\n",
    "    word_vec_dict_text[word]=w2v_model_text.wv.get_vector(word)\n",
    "print(\"The no of key-value pairs : \",len(word_vec_dict_text)) # should come equal to vocab size"
   ]
  },
  {
   "cell_type": "code",
   "execution_count": 18,
   "id": "69ca46e4",
   "metadata": {},
   "outputs": [
    {
     "name": "stdout",
     "output_type": "stream",
     "text": [
      "228\n"
     ]
    }
   ],
   "source": [
    "# now since we will have to pad we need to find the maximum lenght of any document.\n",
    "\n",
    "maxi=-1\n",
    "for i,rev in enumerate(df['Text']):\n",
    "    tokens=rev.split()\n",
    "    if(len(tokens)>maxi):\n",
    "        maxi=len(tokens)\n",
    "print(maxi)"
   ]
  },
  {
   "cell_type": "code",
   "execution_count": 19,
   "id": "3833f746",
   "metadata": {},
   "outputs": [
    {
     "data": {
      "text/plain": [
       "2963"
      ]
     },
     "execution_count": 19,
     "metadata": {},
     "output_type": "execute_result"
    }
   ],
   "source": [
    "from tensorflow.keras.preprocessing.text import Tokenizer \n",
    "\n",
    "tok_text = Tokenizer()\n",
    "tok_text.fit_on_texts(data)\n",
    "vocab_size_text = len(tok_text.word_index) + 1\n",
    "encd_rev_text = tok_text.texts_to_sequences(data)\n",
    "vocab_size_text"
   ]
  },
  {
   "cell_type": "code",
   "execution_count": 20,
   "id": "155d2f46",
   "metadata": {},
   "outputs": [],
   "source": [
    "max_txt_len_text = 229 # max lenght of a texte\n",
    "vocab_size_text = len(tok_text.word_index) + 1  # total no of words\n",
    "embed_dim_text = 100 # embedding dimension as choosen in word2vec constructor"
   ]
  },
  {
   "cell_type": "code",
   "execution_count": 21,
   "id": "6b3a290f",
   "metadata": {},
   "outputs": [],
   "source": [
    "max_txt_len_sum=19  # max lenght of a summary"
   ]
  },
  {
   "cell_type": "code",
   "execution_count": 22,
   "id": "10dbe861",
   "metadata": {},
   "outputs": [
    {
     "data": {
      "text/plain": [
       "(2188, 229)"
      ]
     },
     "execution_count": 22,
     "metadata": {},
     "output_type": "execute_result"
    }
   ],
   "source": [
    "from tensorflow.keras.preprocessing.sequence import pad_sequences\n",
    "\n",
    "pad_rev_text= pad_sequences(encd_rev_text, maxlen=max_txt_len_text, padding='post')\n",
    "pad_rev_text.shape"
   ]
  },
  {
   "cell_type": "code",
   "execution_count": 23,
   "id": "d613321b",
   "metadata": {},
   "outputs": [],
   "source": [
    "# now creating the embedding matrix\n",
    "embed_matrix_text=np.zeros(shape=(vocab_size_text,embed_dim_text))\n",
    "for word,i in tok_text.word_index.items():\n",
    "    embed_vector=word_vec_dict_text.get(word)\n",
    "    if embed_vector is not None:  # word is in the vocabulary learned by the w2v model\n",
    "        embed_matrix_text[i]=embed_vector\n",
    "  # if word is not found then embed_vector corressponding to that vector will stay zero."
   ]
  },
  {
   "cell_type": "code",
   "execution_count": 24,
   "id": "0b33d73e",
   "metadata": {},
   "outputs": [],
   "source": [
    "# Split the input and target text into 80:20 ratio or testing size of 20%.\n",
    "x_train,x_test,y_train,y_test=train_test_split(input_texts,target_texts,test_size=0.1,random_state=40)\n",
    "\n",
    "# Train the tokenizer with all the words\n",
    "  # prepare a tokenizer for texts on training data\n",
    "in_tokenizer = Tokenizer()\n",
    "in_tokenizer.fit_on_texts(x_train)\n",
    "  # preparing a tokenizer for summary on training data \n",
    "tr_tokenizer = Tokenizer()\n",
    "tr_tokenizer.fit_on_texts(y_train)\n",
    "\n",
    "# Convert text into sequence of integers where the integer will be the index of that word\n",
    "x_train= in_tokenizer.texts_to_sequences(x_train) \n",
    "y_train= tr_tokenizer.texts_to_sequences(y_train)\n",
    "\n",
    "# Pad array of 0's if the length is less than the maximum length \n",
    "en_in_data= pad_sequences(x_train,  maxlen=max_in_len, padding='post') \n",
    "dec_data= pad_sequences(y_train,  maxlen=max_tr_len, padding='post')\n",
    "\n",
    "\n",
    "minmax_scale = preprocessing.MinMaxScaler(feature_range=(0, 1))\n",
    "# x = np.array(x_train)\n",
    "en_in_data = minmax_scale.fit_transform(en_in_data)\n",
    "# print(en_in_data)\n",
    " \n",
    "# Decoder input data will not include the last word \n",
    "# i.e. 'end' in decoder input data\n",
    "dec_in_data = dec_data[:,:-1]\n",
    "\n",
    "# Decoder target data will be one time step ahead as it will not include the first word i.e 'start'\n",
    "dec_tr_data = dec_data.reshape(len(dec_data),max_tr_len,1)[:,1:]\n",
    "\n",
    "# print(x_train)"
   ]
  },
  {
   "cell_type": "code",
   "execution_count": 73,
   "id": "7b1f833f",
   "metadata": {},
   "outputs": [],
   "source": [
    "# Return Sequences = True: When the return sequences \n",
    "# parameter is set to True, LSTM produces the hidden \n",
    "# state and cell state for every timestep\n",
    "\n",
    "# Return State = True: When return state = True, \n",
    "# LSTM produces the hidden state and cell state of \n",
    "# the last timestep only\n",
    "\n",
    "# Initial State: This is used to initialize the \n",
    "# internal states of the LSTM for the first timestep\n",
    "\n",
    "# Stacked LSTM: Stacked LSTM has multiple layers of \n",
    "# LSTM stacked on top of each other. This leads to a\n",
    "# better representation of the sequence. "
   ]
  },
  {
   "cell_type": "code",
   "execution_count": 25,
   "id": "3a0cd60a",
   "metadata": {},
   "outputs": [],
   "source": [
    "import tensorflow as tf\n",
    "\n",
    "def add_prefix(model, prefix: str, custom_objects=None):\n",
    "    '''Adds a prefix to layers and model name while keeping the pre-trained weights\n",
    "    Arguments:\n",
    "        model: a tf.keras model\n",
    "        prefix: a string that would be added to before each layer name\n",
    "        custom_objects: if your model consists of custom layers you shoud add them pass them as a dictionary. \n",
    "    Returns:\n",
    "        new_model: a tf.keras model having same weights as the input model.\n",
    "    '''\n",
    "    \n",
    "    config = model.get_config()\n",
    "    old_to_new = {}\n",
    "    new_to_old = {}\n",
    "    \n",
    "    for layer in config['layers']:\n",
    "        new_name = prefix + layer['name']\n",
    "        old_to_new[layer['name']], new_to_old[new_name] = new_name, layer['name']\n",
    "        layer['name'] = new_name\n",
    "        layer['config']['name'] = new_name\n",
    "\n",
    "        if len(layer['inbound_nodes']) > 0:\n",
    "            for in_node in layer['inbound_nodes'][0]:\n",
    "                in_node[0] = old_to_new[in_node[0]]\n",
    "    \n",
    "    for input_layer in config['input_layers']:\n",
    "        input_layer[0] = old_to_new[input_layer[0]]\n",
    "    \n",
    "    for output_layer in config['output_layers']:\n",
    "        output_layer[0] = old_to_new[output_layer[0]]\n",
    "    \n",
    "    config['name'] = prefix + config['name']\n",
    "    new_model = tf.keras.Model().from_config(config, custom_objects)\n",
    "    \n",
    "    for layer in new_model.layers:\n",
    "        layer.set_weights(model.get_layer(new_to_old[layer.name]).get_weights())\n",
    "    \n",
    "    return new_model"
   ]
  },
  {
   "cell_type": "code",
   "execution_count": 26,
   "id": "ea85223f",
   "metadata": {},
   "outputs": [
    {
     "data": {
      "text/plain": [
       "2963"
      ]
     },
     "execution_count": 26,
     "metadata": {},
     "output_type": "execute_result"
    }
   ],
   "source": [
    "vocab_size_text"
   ]
  },
  {
   "cell_type": "code",
   "execution_count": 27,
   "id": "09aa4a42",
   "metadata": {},
   "outputs": [
    {
     "name": "stdout",
     "output_type": "stream",
     "text": [
      "Model: \"v2_model\"\n",
      "__________________________________________________________________________________________________\n",
      " Layer (type)                   Output Shape         Param #     Connected to                     \n",
      "==================================================================================================\n",
      " v2_input_0 (InputLayer)        [(None, 347)]        0           []                               \n",
      "                                                                                                  \n",
      " v2_en_embedding (Embedding)    (None, 347, 100)     296300      ['v2_input_0[0][0]']             \n",
      "                                                                                                  \n",
      " v2_LSTM1 (LSTM)                [(None, 347, 500),   1202000     ['v2_en_embedding[0][0]']        \n",
      "                                 (None, 500),                                                     \n",
      "                                 (None, 500)]                                                     \n",
      "                                                                                                  \n",
      " v2_input_1 (InputLayer)        [(None, None)]       0           []                               \n",
      "                                                                                                  \n",
      " v2_LSTM2 (LSTM)                [(None, 347, 500),   2002000     ['v2_LSTM1[0][0]']               \n",
      "                                 (None, 500),                                                     \n",
      "                                 (None, 500)]                                                     \n",
      "                                                                                                  \n",
      " v2_embedding (Embedding)       (None, None, 100)    296300      ['v2_input_1[0][0]']             \n",
      "                                                                                                  \n",
      " v2_LSTM3 (LSTM)                [(None, 347, 500),   2002000     ['v2_LSTM2[0][0]']               \n",
      "                                 (None, 500),                                                     \n",
      "                                 (None, 500)]                                                     \n",
      "                                                                                                  \n",
      " v2_lstm (LSTM)                 [(None, None, 500),  1202000     ['v2_embedding[0][0]',           \n",
      "                                 (None, 500),                     'v2_LSTM3[0][1]',               \n",
      "                                 (None, 500)]                     'v2_LSTM3[0][2]']               \n",
      "                                                                                                  \n",
      " v2_attention (Attention)       (None, None, 500)    0           ['v2_lstm[0][0]',                \n",
      "                                                                  'v2_LSTM3[0][0]']               \n",
      "                                                                                                  \n",
      " v2_concat_layer1 (Concatenate)  (None, None, 1000)  0           ['v2_lstm[0][0]',                \n",
      "                                                                  'v2_attention[0][0]']           \n",
      "                                                                                                  \n",
      " v2_dense (Dense)               (None, None, 800)    800800      ['v2_concat_layer1[0][0]']       \n",
      "                                                                                                  \n",
      "==================================================================================================\n",
      "Total params: 7,801,400\n",
      "Trainable params: 7,801,400\n",
      "Non-trainable params: 0\n",
      "__________________________________________________________________________________________________\n"
     ]
    }
   ],
   "source": [
    "K.clear_session() \n",
    "latent_dim = 500\n",
    "\n",
    "# Encoder \n",
    "# Create input object of total number of encoder words\n",
    "en_inputs = Input(shape=(max_in_len,),name='input_0')\n",
    "\n",
    "# en_embedding = Embedding(num_in_words+1, latent_dim, name='en_embedding')(en_inputs) \n",
    "en_embedding = Embedding(vocab_size_text, \n",
    "                         embed_dim_text, \n",
    "                         name='en_embedding', \n",
    "                         input_length=max_txt_len_text,\n",
    "                         embeddings_initializer=tf.keras.initializers.Constant(embed_matrix_text)\n",
    "                        )(en_inputs) \n",
    "# Embedding(input_dim=vocab_size,output_dim=embed_dim,input_length=max_txt_len,embeddings_initializer=Constant(embed_matrix))\n",
    "\n",
    "# Create 3 stacked LSTM layer with the shape of hidden dimension for text summarizer using deep learning\n",
    "# LSTM 1\n",
    "en_lstm1= LSTM(latent_dim, return_state=True, return_sequences=True,name='LSTM1') \n",
    "en_outputs1, state_h1, state_c1= en_lstm1(en_embedding) \n",
    " \n",
    "# LSTM2\n",
    "en_lstm2= LSTM(latent_dim, return_state=True, return_sequences=True,name='LSTM2') \n",
    "en_outputs2, state_h2, state_c2= en_lstm2(en_outputs1) \n",
    " \n",
    "# LSTM3\n",
    "en_lstm3= LSTM(latent_dim,return_sequences=True,return_state=True,name='LSTM3')\n",
    "en_outputs3 , state_h3 , state_c3= en_lstm3(en_outputs2)\n",
    " \n",
    "# Encoder states\n",
    "en_states= [state_h3, state_c3]\n",
    "\n",
    "# Decoder. \n",
    "dec_inputs = Input(shape=(None,)) \n",
    "dec_emb_layer = Embedding(vocab_size_text, \n",
    "                          embed_dim_text,\n",
    "                          input_length=max_txt_len_sum,\n",
    "                          embeddings_initializer=tf.keras.initializers.Constant(embed_matrix_text)\n",
    "                         ) \n",
    "dec_embedding = dec_emb_layer(dec_inputs) \n",
    " \n",
    "# Initialize decoder's LSTM layer with the output states of encoder\n",
    "dec_lstm = LSTM(latent_dim, return_sequences=True, return_state=True)\n",
    "dec_outputs, *_ = dec_lstm(dec_embedding,initial_state=en_states) \n",
    "\n",
    "# Attention layer\n",
    "attention =Attention()\n",
    "attn_out = attention([dec_outputs,en_outputs3])\n",
    " \n",
    "# Concatenate the attention output with the decoder outputs\n",
    "merge=Concatenate(axis=-1, name='concat_layer1')([dec_outputs,attn_out])\n",
    "\n",
    "# Dense layer (output layer)\n",
    "dec_dense = Dense(num_tr_words+1, activation='softmax')\n",
    "# m = 32 # number of gaussian models to build\n",
    "# dec_dense = mdn.MDN(num_tr_words+1,m)\n",
    "dec_outputs = dec_dense(merge) \n",
    "\n",
    "# Model class and model summary for text Summarizer\n",
    "new_model = Model([en_inputs, dec_inputs], dec_outputs) \n",
    "model = add_prefix(new_model, 'v2_')\n",
    "model.summary()"
   ]
  },
  {
   "cell_type": "code",
   "execution_count": 28,
   "id": "1b48b769",
   "metadata": {},
   "outputs": [],
   "source": [
    "optimizer = tf.keras.optimizers.RMSprop(learning_rate=0.02)\n",
    "# optimizer = tf.keras.optimizers.Adam(lr=0.000001)\n",
    "# optimizer = 'sgd'\n",
    "# optimizer=\"rmsprop\", loss=\"sparse_categorical_crossentropy\", metrics=[\"accuracy\"] \n",
    "\n",
    "model.compile( \n",
    "    optimizer=optimizer, \n",
    "    loss=\"sparse_categorical_crossentropy\",\n",
    "    metrics=[\"accuracy\"] \n",
    ") "
   ]
  },
  {
   "cell_type": "code",
   "execution_count": 48,
   "id": "b60b7458",
   "metadata": {},
   "outputs": [],
   "source": [
    "from tensorflow.keras.callbacks import EarlyStopping\n",
    "es = EarlyStopping(monitor='val_loss', mode='min', verbose=1)"
   ]
  },
  {
   "cell_type": "code",
   "execution_count": 39,
   "id": "95521216",
   "metadata": {
    "scrolled": true
   },
   "outputs": [
    {
     "name": "stdout",
     "output_type": "stream",
     "text": [
      "Epoch 1/12\n",
      "6/6 [==============================] - 220s 37s/step - loss: 17.6283 - accuracy: 0.4311 - val_loss: 3.0900 - val_accuracy: 0.8437\n",
      "Epoch 2/12\n",
      "6/6 [==============================] - 219s 37s/step - loss: 5.5353 - accuracy: 0.7068 - val_loss: 1.9323 - val_accuracy: 0.8687\n",
      "Epoch 3/12\n",
      "6/6 [==============================] - 219s 37s/step - loss: 1.0366 - accuracy: 0.8740 - val_loss: 1.4459 - val_accuracy: 0.8805\n",
      "Epoch 4/12\n",
      "6/6 [==============================] - 230s 39s/step - loss: 0.7918 - accuracy: 0.8758 - val_loss: 1.3117 - val_accuracy: 0.8812\n",
      "Epoch 5/12\n",
      "6/6 [==============================] - 231s 39s/step - loss: 0.6392 - accuracy: 0.8835 - val_loss: 1.1970 - val_accuracy: 0.8825\n",
      "Epoch 6/12\n",
      "6/6 [==============================] - 241s 41s/step - loss: 0.5706 - accuracy: 0.8861 - val_loss: 1.1905 - val_accuracy: 0.8840\n",
      "Epoch 7/12\n",
      "6/6 [==============================] - 233s 39s/step - loss: 0.5221 - accuracy: 0.8930 - val_loss: 1.2346 - val_accuracy: 0.8848\n",
      "Epoch 8/12\n",
      "6/6 [==============================] - 240s 41s/step - loss: 0.4895 - accuracy: 0.8970 - val_loss: 1.2561 - val_accuracy: 0.8845\n",
      "Epoch 9/12\n",
      "6/6 [==============================] - 239s 40s/step - loss: 0.4645 - accuracy: 0.9033 - val_loss: 1.2169 - val_accuracy: 0.8861\n",
      "Epoch 10/12\n",
      "6/6 [==============================] - 247s 42s/step - loss: 0.4172 - accuracy: 0.9106 - val_loss: 1.2527 - val_accuracy: 0.8853\n",
      "Epoch 11/12\n",
      "6/6 [==============================] - 243s 41s/step - loss: 0.4006 - accuracy: 0.9120 - val_loss: 1.1999 - val_accuracy: 0.8876\n",
      "Epoch 12/12\n",
      "6/6 [==============================] - 245s 41s/step - loss: 0.3764 - accuracy: 0.9183 - val_loss: 1.2023 - val_accuracy: 0.8835\n"
     ]
    }
   ],
   "source": [
    "history=model.fit( \n",
    "    [en_in_data, dec_in_data],\n",
    "    dec_tr_data, \n",
    "    batch_size=128, \n",
    "    epochs=12, \n",
    "    validation_split=0.15,\n",
    "    )"
   ]
  },
  {
   "cell_type": "code",
   "execution_count": 40,
   "id": "b0d27ea3",
   "metadata": {},
   "outputs": [
    {
     "name": "stderr",
     "output_type": "stream",
     "text": [
      "WARNING:absl:Found untraced functions such as lstm_cell_8_layer_call_fn, lstm_cell_8_layer_call_and_return_conditional_losses, lstm_cell_9_layer_call_fn, lstm_cell_9_layer_call_and_return_conditional_losses, lstm_cell_10_layer_call_fn while saving (showing 5 of 8). These functions will not be directly callable after loading.\n"
     ]
    },
    {
     "name": "stdout",
     "output_type": "stream",
     "text": [
      "INFO:tensorflow:Assets written to: s2s\\assets\n"
     ]
    },
    {
     "name": "stderr",
     "output_type": "stream",
     "text": [
      "INFO:tensorflow:Assets written to: s2s\\assets\n"
     ]
    }
   ],
   "source": [
    "#Save model\n",
    "model.save(\"s2s\")"
   ]
  },
  {
   "cell_type": "code",
   "execution_count": 41,
   "id": "56779e98",
   "metadata": {},
   "outputs": [
    {
     "data": {
      "image/png": "[encoded data removed]",
      "text/plain": [
       "<Figure size 432x288 with 1 Axes>"
      ]
     },
     "metadata": {
      "needs_background": "light"
     },
     "output_type": "display_data"
    }
   ],
   "source": [
    "from matplotlib import pyplot \n",
    "\n",
    "pyplot.plot(history.history['accuracy'], label='train') \n",
    "pyplot.plot(history.history['val_accuracy'], label='test')\n",
    "\n",
    "pyplot.xlabel('Epoch')\n",
    "pyplot.ylabel('Accuracy')\n",
    "pyplot.legend(loc='lower right')\n",
    "\n",
    "pyplot.show()"
   ]
  },
  {
   "cell_type": "code",
   "execution_count": 43,
   "id": "053416be",
   "metadata": {},
   "outputs": [
    {
     "data": {
      "image/png": "[encoded data removed]",
      "text/plain": [
       "<Figure size 432x288 with 1 Axes>"
      ]
     },
     "metadata": {
      "needs_background": "light"
     },
     "output_type": "display_data"
    }
   ],
   "source": [
    "from matplotlib import pyplot \n",
    "\n",
    "pyplot.plot(history.history['loss'], label='train') \n",
    "pyplot.plot(history.history['val_loss'], label='test') \n",
    "\n",
    "pyplot.xlabel('Epoch')\n",
    "pyplot.ylabel('Loss')\n",
    "pyplot.legend(loc='lower right')\n",
    "\n",
    "pyplot.show()"
   ]
  },
  {
   "cell_type": "code",
   "execution_count": 44,
   "id": "d54cc02d",
   "metadata": {},
   "outputs": [],
   "source": [
    "# Encoder inference\n",
    "latent_dim=500#load the model\n",
    "model = models.load_model(\"s2s\")\n",
    " \n",
    "# Construct encoder model from the output of 6 layer i.e.last LSTM layer\n",
    "en_outputs,state_h_enc,state_c_enc = model.layers[6].output\n",
    "en_states=[state_h_enc,state_c_enc]\n",
    "# Add input and state from the layer.\n",
    "en_model = Model(model.input[0],[en_outputs]+en_states)\n",
    "\n",
    "# Decoder inference\n",
    "# Create Input object for hidden and cell state for decoder\n",
    "# Shape of layer with hidden or latent dimension\n",
    "dec_state_input_h = Input(shape=(latent_dim,))\n",
    "dec_state_input_c = Input(shape=(latent_dim,))\n",
    "dec_hidden_state_input = Input(shape=(max_in_len,latent_dim))\n",
    " \n",
    "# Get the embeddings and input layer from the model\n",
    "dec_inputs = model.input[1]\n",
    "dec_emb_layer = model.layers[5]\n",
    "dec_lstm = model.layers[7]\n",
    "dec_embedding= dec_emb_layer(dec_inputs)\n",
    " \n",
    "# Add input and initialize LSTM layer with encoder LSTM states.\n",
    "dec_outputs2, state_h2, state_c2 = dec_lstm(dec_embedding, initial_state=[dec_state_input_h,dec_state_input_c])\n",
    "\n",
    "# Attention layer\n",
    "attention = model.layers[8]\n",
    "attn_out2 = attention([dec_outputs2,dec_hidden_state_input])\n",
    " \n",
    "merge2 = Concatenate(axis=-1)([dec_outputs2, attn_out2])\n",
    "\n",
    "# Dense layer\n",
    "dec_dense = model.layers[10]\n",
    "dec_outputs2 = dec_dense(merge2)\n",
    " \n",
    "# Finally define the Model Class\n",
    "dec_model = Model(\n",
    "[dec_inputs] + [dec_hidden_state_input,dec_state_input_h,dec_state_input_c],\n",
    "[dec_outputs2] + [state_h2, state_c2])"
   ]
  },
  {
   "cell_type": "code",
   "execution_count": 45,
   "id": "b569558b",
   "metadata": {},
   "outputs": [],
   "source": [
    "# Create a dictionary with a key as index and value as words.\n",
    "reverse_target_word_index = tr_tokenizer.index_word\n",
    "reverse_source_word_index = in_tokenizer.index_word\n",
    "target_word_index = tr_tokenizer.word_index\n",
    "reverse_target_word_index[0]=' '"
   ]
  },
  {
   "cell_type": "code",
   "execution_count": 46,
   "id": "831ffece",
   "metadata": {},
   "outputs": [],
   "source": [
    "def decode_sequence_naive(input_seq):\n",
    "    # Encode the input as state vectors.\n",
    "    # Get the encoder output and states by passing the input sequence\n",
    "    en_out, en_h, en_c= en_model.predict(input_seq)\n",
    " \n",
    "    # Generate empty target sequence of length 1.\n",
    "    target_seq = np.zeros((1, 1))\n",
    "    \n",
    "    # Target sequence with initial word as 'start'\n",
    "    target_seq[0, 0] = target_word_index['start']\n",
    " \n",
    "    # If the iteration reaches the end of text than it will be stop the iteration\n",
    "    stop_condition = False\n",
    "    \n",
    "    # Append every predicted word in decoded sentence\n",
    "    decoded_sentence = \"\"\n",
    "    while not stop_condition: \n",
    "        # Get predicted output, hidden and cell state.\n",
    "        output_words, dec_h, dec_c= dec_model.predict([target_seq] + [en_out,en_h, en_c])\n",
    "        \n",
    "        # Get the index and from the dictionary get the word for that index.\n",
    "        word_index = np.argmax(output_words[0, -1, :])\n",
    "        text_word = reverse_target_word_index[word_index]\n",
    "        print(\"text_word\", text_word)\n",
    "        decoded_sentence += text_word +\" \"\n",
    "        \n",
    "        # Exit condition: either hit max length or find a stop word or last word.\n",
    "        if text_word == \"end\" or len(decoded_sentence) > max_tr_len:\n",
    "            stop_condition = True\n",
    "            \n",
    "        # Update target sequence to the current word index.\n",
    "        target_seq = np.zeros((1, 1))\n",
    "        target_seq[0, 0] = word_index\n",
    "        en_h, en_c = dec_h, dec_c\n",
    "    # Return the decoded sentence\n",
    "    return decoded_sentence"
   ]
  },
  {
   "cell_type": "code",
   "execution_count": 47,
   "id": "bcca5ed3",
   "metadata": {},
   "outputs": [],
   "source": [
    "def beam_step(model, beam_size, target_seq, en_out, en_h, en_c):\n",
    "        \n",
    "    output_words, dec_h, dec_c = model.predict([target_seq] + [en_out, en_h, en_c])\n",
    "    # Get indexes of all the top probabilities\n",
    "    word_indexes = np.argpartition(output_words[0, -1, :], -beam_size)[-beam_size:]\n",
    "\n",
    "    return word_indexes[:beam_size], np.log(output_words[0, -1, word_indexes]), dec_h, dec_c\n",
    "\n",
    "def decode_sequence_beamsearch(input_seq):\n",
    "    # Encode the input as state vectors.\n",
    "    # Get the encoder output and states by passing the input sequence\n",
    "    en_out, en_h, en_c = en_model.predict(input_seq)\n",
    "    \n",
    "    # Generate empty target sequence of length 1.\n",
    "    target_seq = np.zeros((1, 1))\n",
    "    \n",
    "    # Target sequence with initial word as 'start'\n",
    "    target_seq[0, 0] = target_word_index['start']\n",
    "   \n",
    "    past_targets = [target_seq]\n",
    "    past_hs = [en_h]\n",
    "    past_cs = [en_c]\n",
    " \n",
    "    # If the iteration reaches the end of text than it will be stop the iteration\n",
    "    stop_condition = False\n",
    "    \n",
    "    beam_indices = []\n",
    "    beam_probs = []\n",
    "    beam_words = []\n",
    "    \n",
    "    BSIZE = 1\n",
    "    cpt = True\n",
    "    \n",
    "    while not stop_condition: \n",
    "        idxes_beam = []\n",
    "        pbs_beam = []\n",
    "        for past_target, past_h, past_c in zip(past_targets, past_hs, past_cs):\n",
    "            # for each couple of (past_targets, past_hs, past_cs) predict the best word along with BSIZE (3) words after it (we are keeping indexes)\n",
    "            if (cpt):\n",
    "                NEWBSIZE = BSIZE\n",
    "                idxes, pbs, h, c = beam_step(dec_model, NEWBSIZE, past_target, en_out, past_hs, past_cs)\n",
    "                cpt = False\n",
    "            else:\n",
    "                NEWBSIZE = BSIZE*BSIZE\n",
    "                idxes, pbs, h, c = beam_step(dec_model, NEWBSIZE, past_target, en_out, past_hs, past_cs)\n",
    "            # add the indexes of those words to the end of idxes_beam\n",
    "            idxes_beam.extend(idxes)\n",
    "            # add the proba of those words to the list of probs \n",
    "            pbs_beam.extend(pbs)\n",
    "            # The append() method adds a single element to the end of a list, and the extend() method adds multiple items.\n",
    "          \n",
    "        \n",
    "        # choose the max proba among the maxes\n",
    "        word_indexes = np.argpartition(pbs_beam, -BSIZE)[-BSIZE:]\n",
    "        # np.divmod(x, y) is equivalent to (x // y, x % y)  \n",
    "        idx_div, idx_mod = np.divmod(word_indexes, BSIZE)\n",
    "        beam_indices.append(idx_div)\n",
    "        beam_words.append(np.array(idxes_beam)[word_indexes])\n",
    "        if len(beam_probs) == 0:\n",
    "            beam_probs.append(np.array(pbs_beam)[word_indexes])\n",
    "\n",
    "        else:\n",
    "            beam_probs.append(np.array(pbs_beam)[word_indexes] + beam_probs[-1][idx_div]) \n",
    "\n",
    "        word_index = beam_words[-1][np.argmax(beam_probs[-1])]\n",
    "        text_word = reverse_target_word_index[word_index]\n",
    "        \n",
    "        # Exit condition: either hit max length or find a stop word or last word.\n",
    "        if text_word == \"end\" or len(beam_words) == max_tr_len:\n",
    "            print (\"Exit condition\")\n",
    "            stop_condition = True\n",
    "            \n",
    "        # Update target sequence to the current word index.\n",
    "        past_targets = []\n",
    "        past_hs = h\n",
    "        past_cs = c\n",
    "\n",
    "        for i in range(BSIZE):\n",
    "            target_seq = np.zeros((1, 1))\n",
    "            target_seq[0, 0] = beam_words[-1][i]\n",
    "            past_targets.append(target_seq)\n",
    "            \n",
    "    \n",
    "    words = []\n",
    "    \n",
    "    i = len(beam_probs) - 1\n",
    "    j = np.argmax(beam_probs[i])\n",
    "    \n",
    "    while i > -1:\n",
    "        word_index = beam_words[i][j]\n",
    "        text_word = reverse_target_word_index[word_index]\n",
    "        words.insert(0, text_word)\n",
    "        j = beam_indices[i][j]\n",
    "        i -= 1\n",
    "        \n",
    "    # Return the decoded sentence\n",
    "    return \" \".join(words)"
   ]
  },
  {
   "cell_type": "code",
   "execution_count": 51,
   "id": "2ff3a61e",
   "metadata": {},
   "outputs": [
    {
     "name": "stdout",
     "output_type": "stream",
     "text": [
      "text : we may collect your personal data when you register for or use our services such as when you create an account make a payment or make a purchase on a merchants website\n",
      "1/1 [==============================] - 1s 796ms/step\n",
      "1/1 [==============================] - 0s 23ms/step\n",
      "1/1 [==============================] - 0s 24ms/step\n",
      "1/1 [==============================] - 0s 35ms/step\n",
      "1/1 [==============================] - 0s 24ms/step\n",
      "1/1 [==============================] - 0s 28ms/step\n",
      "1/1 [==============================] - 0s 24ms/step\n",
      "Exit condition\n",
      "\n",
      "Predicted summary: professional and employment related information \n",
      "\n",
      "\n"
     ]
    }
   ],
   "source": [
    "# inpt_txt = \"whatsapp must receive or collect some information to operate provide improve understand customize support and market our services including when you install access or use our services the types of information we receive and collect depend on how you use our services we require certain information to deliver our services and without this we will not be able to provide our services to you for example you must provide your mobile phone number to create an account to use our service\"\n",
    "inpt_txt = \"we may collect your personal data when you register for or use our services such as when you create an account make a payment or make a purchase on a merchants website\"\n",
    "# inpt_txt = \"collecting commercial information for example online shopping cart information purchase history\"\n",
    "print(\"text :\",inpt_txt)\n",
    "inpt_txt = clean(inpt_txt)\n",
    "# inpt_txt = ' '.join(inpt_txt)\n",
    "inp_x= in_tokenizer.texts_to_sequences([inpt_txt]) \n",
    "inp_x= pad_sequences(inp_x,  maxlen=max_in_len, padding='post')\n",
    " \n",
    "summary=decode_sequence_beamsearch(inp_x.reshape(1,max_in_len))\n",
    "if 'end' in summary :\n",
    "    summary=summary.replace('end','')\n",
    "print(\"\\nPredicted summary:\",summary);print(\"\\n\")"
   ]
  },
  {
   "cell_type": "code",
   "execution_count": 52,
   "id": "f9389afe",
   "metadata": {},
   "outputs": [],
   "source": [
    "from tensorflow.keras.models import model_from_json\n",
    "model_json = model.to_json()\n",
    "with open(\"model.json\", \"w\") as json_file:\n",
    "    json_file.write(model_json)\n",
    "# serialize weights to HDF5\n",
    "model.save_weights(\"model.h5\")\n",
    "#After executing this we will be having two file in same directory model.json & model.h5"
   ]
  },
  {
   "cell_type": "code",
   "execution_count": 53,
   "id": "46e9531d",
   "metadata": {},
   "outputs": [],
   "source": [
    "import pickle\n",
    "pickle.dump(in_tokenizer, open('./in_tokenizer.pkl', 'wb'))\n",
    "pickle.dump(tr_tokenizer, open('./tr_tokenizer.pkl', 'wb'))"
   ]
  },
  {
   "cell_type": "code",
   "execution_count": 54,
   "id": "100829c9",
   "metadata": {},
   "outputs": [
    {
     "data": {
      "text/plain": [
       "<keras.preprocessing.text.Tokenizer at 0x1ee895dcfa0>"
      ]
     },
     "execution_count": 54,
     "metadata": {},
     "output_type": "execute_result"
    }
   ],
   "source": [
    "in_tokenizer = pickle.load(open('in_tokenizer.pkl', 'rb'))\n",
    "in_tokenizer"
   ]
  },
  {
   "cell_type": "code",
   "execution_count": 55,
   "id": "ec550484",
   "metadata": {},
   "outputs": [
    {
     "data": {
      "text/plain": [
       "<keras.preprocessing.text.Tokenizer at 0x1ee895dc8e0>"
      ]
     },
     "execution_count": 55,
     "metadata": {},
     "output_type": "execute_result"
    }
   ],
   "source": [
    "tr_tokenizer = pickle.load(open('tr_tokenizer.pkl', 'rb'))\n",
    "tr_tokenizer"
   ]
  }
 ],
 "metadata": {
  "kernelspec": {
   "display_name": "venv",
   "language": "python",
   "name": "venv"
  },
  "language_info": {
   "codemirror_mode": {
    "name": "ipython",
    "version": 3
   },
   "file_extension": ".py",
   "mimetype": "text/x-python",
   "name": "python",
   "nbconvert_exporter": "python",
   "pygments_lexer": "ipython3",
   "version": "3.9.5"
  }
 },
 "nbformat": 4,
 "nbformat_minor": 5
}
