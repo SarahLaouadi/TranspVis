{
 "cells": [
  {
   "cell_type": "code",
   "execution_count": null,
   "id": "554950d4",
   "metadata": {},
   "outputs": [],
   "source": [
    "from transformers import pipeline\n",
    "\n",
    "summarizer = pipeline(\"summarization\", model=\"facebook/bart-large-cnn\")"
   ]
  },
  {
   "cell_type": "code",
   "execution_count": null,
   "id": "eb141c40",
   "metadata": {},
   "outputs": [],
   "source": [
    "# text =\"\"\" we only retain collected information for as long as necessary to provide you with your requested service what data we store well protect within commercially acceptable means to prevent loss and theft as well as unauthorized access disclosure copying use or modification \"\"\"\n",
    "# text = \"\"\" your account information you must provide your mobile phone number and basic information including a profile name of your choice to create a whatsapp account if you dont provide us with this information you will not be able to create an account to use our services you can add other information to your account such as a profile picture and about information \"\"\"\n",
    "text = \"\"\" your messages we do not retain your messages in the ordinary course of providing our services to you instead your messages are stored on your device and not typically stored on our servers once your messages are delivered they are deleted from our servers the following scenarios describe circumstances where we may store your messages in the course of delivering them \"\"\"\n",
    "\n",
    "print(summarizer(text, max_length=20, min_length=2, do_sample=False))"
   ]
  }
 ],
 "metadata": {
  "kernelspec": {
   "display_name": "venv",
   "language": "python",
   "name": "venv"
  },
  "language_info": {
   "codemirror_mode": {
    "name": "ipython",
    "version": 3
   },
   "file_extension": ".py",
   "mimetype": "text/x-python",
   "name": "python",
   "nbconvert_exporter": "python",
   "pygments_lexer": "ipython3",
   "version": "3.9.5"
  }
 },
 "nbformat": 4,
 "nbformat_minor": 5
}
